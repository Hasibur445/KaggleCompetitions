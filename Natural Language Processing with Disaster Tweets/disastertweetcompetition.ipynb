{
 "cells": [
  {
   "cell_type": "code",
   "execution_count": 1,
   "id": "536df84d",
   "metadata": {
    "execution": {
     "iopub.execute_input": "2024-02-19T10:39:13.176691Z",
     "iopub.status.busy": "2024-02-19T10:39:13.176338Z",
     "iopub.status.idle": "2024-02-19T10:39:38.747556Z",
     "shell.execute_reply": "2024-02-19T10:39:38.746520Z"
    },
    "papermill": {
     "duration": 25.585109,
     "end_time": "2024-02-19T10:39:38.749969",
     "exception": false,
     "start_time": "2024-02-19T10:39:13.164860",
     "status": "completed"
    },
    "tags": []
   },
   "outputs": [
    {
     "name": "stdout",
     "output_type": "stream",
     "text": [
      "Requirement already satisfied: keras-core in /opt/conda/lib/python3.10/site-packages (0.1.7)\r\n",
      "Requirement already satisfied: absl-py in /opt/conda/lib/python3.10/site-packages (from keras-core) (1.4.0)\r\n",
      "Requirement already satisfied: numpy in /opt/conda/lib/python3.10/site-packages (from keras-core) (1.24.4)\r\n",
      "Requirement already satisfied: rich in /opt/conda/lib/python3.10/site-packages (from keras-core) (13.7.0)\r\n",
      "Requirement already satisfied: namex in /opt/conda/lib/python3.10/site-packages (from keras-core) (0.0.7)\r\n",
      "Requirement already satisfied: h5py in /opt/conda/lib/python3.10/site-packages (from keras-core) (3.10.0)\r\n",
      "Requirement already satisfied: dm-tree in /opt/conda/lib/python3.10/site-packages (from keras-core) (0.1.8)\r\n",
      "Requirement already satisfied: markdown-it-py>=2.2.0 in /opt/conda/lib/python3.10/site-packages (from rich->keras-core) (3.0.0)\r\n",
      "Requirement already satisfied: pygments<3.0.0,>=2.13.0 in /opt/conda/lib/python3.10/site-packages (from rich->keras-core) (2.17.2)\r\n",
      "Requirement already satisfied: mdurl~=0.1 in /opt/conda/lib/python3.10/site-packages (from markdown-it-py>=2.2.0->rich->keras-core) (0.1.2)\r\n"
     ]
    }
   ],
   "source": [
    "!pip install keras-core --upgrade\n",
    "!pip install -q keras-nlp --upgrade\n",
    "\n",
    "# This sample uses Keras Core, the multi-backend version of Keras.\n",
    "# The selected backend is TensorFlow (other supported backends are 'jax' and 'torch')\n",
    "import os\n",
    "os.environ['KERAS_BACKEND'] = 'tensorflow'"
   ]
  },
  {
   "cell_type": "code",
   "execution_count": 2,
   "id": "e48ba20d",
   "metadata": {
    "execution": {
     "iopub.execute_input": "2024-02-19T10:39:38.771913Z",
     "iopub.status.busy": "2024-02-19T10:39:38.771580Z",
     "iopub.status.idle": "2024-02-19T10:39:54.576609Z",
     "shell.execute_reply": "2024-02-19T10:39:54.575640Z"
    },
    "papermill": {
     "duration": 15.818574,
     "end_time": "2024-02-19T10:39:54.578888",
     "exception": false,
     "start_time": "2024-02-19T10:39:38.760314",
     "status": "completed"
    },
    "tags": []
   },
   "outputs": [
    {
     "name": "stderr",
     "output_type": "stream",
     "text": [
      "2024-02-19 10:39:41.219848: E external/local_xla/xla/stream_executor/cuda/cuda_dnn.cc:9261] Unable to register cuDNN factory: Attempting to register factory for plugin cuDNN when one has already been registered\n",
      "2024-02-19 10:39:41.219960: E external/local_xla/xla/stream_executor/cuda/cuda_fft.cc:607] Unable to register cuFFT factory: Attempting to register factory for plugin cuFFT when one has already been registered\n",
      "2024-02-19 10:39:41.346846: E external/local_xla/xla/stream_executor/cuda/cuda_blas.cc:1515] Unable to register cuBLAS factory: Attempting to register factory for plugin cuBLAS when one has already been registered\n"
     ]
    },
    {
     "name": "stdout",
     "output_type": "stream",
     "text": [
      "Using TensorFlow backend\n"
     ]
    }
   ],
   "source": [
    "import pandas as pd\n",
    "import numpy as np # linear algebra\n",
    "import pandas as pd # data processing, CSV file I/O (e.g. pd.read_csv)\n",
    "import tensorflow as tf\n",
    "import keras_core as keras\n",
    "import keras_nlp\n",
    "from sklearn.metrics import ConfusionMatrixDisplay, confusion_matrix\n",
    "import seaborn as sns\n",
    "import matplotlib.pyplot as plt\n"
   ]
  },
  {
   "cell_type": "markdown",
   "id": "814163ac",
   "metadata": {
    "papermill": {
     "duration": 0.010138,
     "end_time": "2024-02-19T10:39:54.599406",
     "exception": false,
     "start_time": "2024-02-19T10:39:54.589268",
     "status": "completed"
    },
    "tags": []
   },
   "source": [
    "# Table of Contents\n",
    "\n",
    "* [Load the Disaster Tweets](#h0)\n",
    "\n",
    "* [Explore the dataset](#h1)\n",
    "\n",
    "* [Preprocess the data](#h2)\n",
    "\n",
    "* [Loadmodel](#h3)\n",
    "\n",
    "* [Train your model](#h4)\n",
    "\n",
    "* [Generate the submission file](#h5)"
   ]
  },
  {
   "cell_type": "markdown",
   "id": "e38f1e95",
   "metadata": {
    "papermill": {
     "duration": 0.009647,
     "end_time": "2024-02-19T10:39:54.618881",
     "exception": false,
     "start_time": "2024-02-19T10:39:54.609234",
     "status": "completed"
    },
    "tags": []
   },
   "source": [
    "# Load the Disaster Tweets <a class=\"anchor\"  id=\"h0\"></a>"
   ]
  },
  {
   "cell_type": "code",
   "execution_count": 3,
   "id": "eaf1b8e9",
   "metadata": {
    "execution": {
     "iopub.execute_input": "2024-02-19T10:39:54.641208Z",
     "iopub.status.busy": "2024-02-19T10:39:54.640616Z",
     "iopub.status.idle": "2024-02-19T10:39:54.699413Z",
     "shell.execute_reply": "2024-02-19T10:39:54.698657Z"
    },
    "papermill": {
     "duration": 0.07203,
     "end_time": "2024-02-19T10:39:54.701615",
     "exception": false,
     "start_time": "2024-02-19T10:39:54.629585",
     "status": "completed"
    },
    "tags": []
   },
   "outputs": [],
   "source": [
    "test=pd.read_csv('/kaggle/input/kaggledisastertweet/test.csv')\n",
    "train=pd.read_csv('/kaggle/input/kaggledisastertweet/train.csv')"
   ]
  },
  {
   "cell_type": "markdown",
   "id": "016ba50e",
   "metadata": {
    "papermill": {
     "duration": 0.009788,
     "end_time": "2024-02-19T10:39:54.721543",
     "exception": false,
     "start_time": "2024-02-19T10:39:54.711755",
     "status": "completed"
    },
    "tags": []
   },
   "source": [
    "# Explore the dataset <a class=\"anchor\"  id=\"h1\"></a>\n"
   ]
  },
  {
   "cell_type": "markdown",
   "id": "78d060d5",
   "metadata": {
    "papermill": {
     "duration": 0.009827,
     "end_time": "2024-02-19T10:39:54.741263",
     "exception": false,
     "start_time": "2024-02-19T10:39:54.731436",
     "status": "completed"
    },
    "tags": []
   },
   "source": [
    "## Remove Missing Values"
   ]
  },
  {
   "cell_type": "code",
   "execution_count": 4,
   "id": "c5a62a07",
   "metadata": {
    "execution": {
     "iopub.execute_input": "2024-02-19T10:39:54.762450Z",
     "iopub.status.busy": "2024-02-19T10:39:54.762138Z",
     "iopub.status.idle": "2024-02-19T10:39:54.782985Z",
     "shell.execute_reply": "2024-02-19T10:39:54.782122Z"
    },
    "papermill": {
     "duration": 0.033636,
     "end_time": "2024-02-19T10:39:54.784885",
     "exception": false,
     "start_time": "2024-02-19T10:39:54.751249",
     "status": "completed"
    },
    "tags": []
   },
   "outputs": [
    {
     "data": {
      "text/html": [
       "<div>\n",
       "<style scoped>\n",
       "    .dataframe tbody tr th:only-of-type {\n",
       "        vertical-align: middle;\n",
       "    }\n",
       "\n",
       "    .dataframe tbody tr th {\n",
       "        vertical-align: top;\n",
       "    }\n",
       "\n",
       "    .dataframe thead th {\n",
       "        text-align: right;\n",
       "    }\n",
       "</style>\n",
       "<table border=\"1\" class=\"dataframe\">\n",
       "  <thead>\n",
       "    <tr style=\"text-align: right;\">\n",
       "      <th></th>\n",
       "      <th>id</th>\n",
       "      <th>keyword</th>\n",
       "      <th>location</th>\n",
       "      <th>text</th>\n",
       "    </tr>\n",
       "  </thead>\n",
       "  <tbody>\n",
       "    <tr>\n",
       "      <th>0</th>\n",
       "      <td>0</td>\n",
       "      <td>NaN</td>\n",
       "      <td>NaN</td>\n",
       "      <td>Just happened a terrible car crash</td>\n",
       "    </tr>\n",
       "    <tr>\n",
       "      <th>1</th>\n",
       "      <td>2</td>\n",
       "      <td>NaN</td>\n",
       "      <td>NaN</td>\n",
       "      <td>Heard about #earthquake is different cities, s...</td>\n",
       "    </tr>\n",
       "    <tr>\n",
       "      <th>2</th>\n",
       "      <td>3</td>\n",
       "      <td>NaN</td>\n",
       "      <td>NaN</td>\n",
       "      <td>there is a forest fire at spot pond, geese are...</td>\n",
       "    </tr>\n",
       "    <tr>\n",
       "      <th>3</th>\n",
       "      <td>9</td>\n",
       "      <td>NaN</td>\n",
       "      <td>NaN</td>\n",
       "      <td>Apocalypse lighting. #Spokane #wildfires</td>\n",
       "    </tr>\n",
       "    <tr>\n",
       "      <th>4</th>\n",
       "      <td>11</td>\n",
       "      <td>NaN</td>\n",
       "      <td>NaN</td>\n",
       "      <td>Typhoon Soudelor kills 28 in China and Taiwan</td>\n",
       "    </tr>\n",
       "    <tr>\n",
       "      <th>...</th>\n",
       "      <td>...</td>\n",
       "      <td>...</td>\n",
       "      <td>...</td>\n",
       "      <td>...</td>\n",
       "    </tr>\n",
       "    <tr>\n",
       "      <th>3258</th>\n",
       "      <td>10861</td>\n",
       "      <td>NaN</td>\n",
       "      <td>NaN</td>\n",
       "      <td>EARTHQUAKE SAFETY LOS ANGELES ÛÒ SAFETY FASTE...</td>\n",
       "    </tr>\n",
       "    <tr>\n",
       "      <th>3259</th>\n",
       "      <td>10865</td>\n",
       "      <td>NaN</td>\n",
       "      <td>NaN</td>\n",
       "      <td>Storm in RI worse than last hurricane. My city...</td>\n",
       "    </tr>\n",
       "    <tr>\n",
       "      <th>3260</th>\n",
       "      <td>10868</td>\n",
       "      <td>NaN</td>\n",
       "      <td>NaN</td>\n",
       "      <td>Green Line derailment in Chicago http://t.co/U...</td>\n",
       "    </tr>\n",
       "    <tr>\n",
       "      <th>3261</th>\n",
       "      <td>10874</td>\n",
       "      <td>NaN</td>\n",
       "      <td>NaN</td>\n",
       "      <td>MEG issues Hazardous Weather Outlook (HWO) htt...</td>\n",
       "    </tr>\n",
       "    <tr>\n",
       "      <th>3262</th>\n",
       "      <td>10875</td>\n",
       "      <td>NaN</td>\n",
       "      <td>NaN</td>\n",
       "      <td>#CityofCalgary has activated its Municipal Eme...</td>\n",
       "    </tr>\n",
       "  </tbody>\n",
       "</table>\n",
       "<p>3263 rows × 4 columns</p>\n",
       "</div>"
      ],
      "text/plain": [
       "         id keyword location  \\\n",
       "0         0     NaN      NaN   \n",
       "1         2     NaN      NaN   \n",
       "2         3     NaN      NaN   \n",
       "3         9     NaN      NaN   \n",
       "4        11     NaN      NaN   \n",
       "...     ...     ...      ...   \n",
       "3258  10861     NaN      NaN   \n",
       "3259  10865     NaN      NaN   \n",
       "3260  10868     NaN      NaN   \n",
       "3261  10874     NaN      NaN   \n",
       "3262  10875     NaN      NaN   \n",
       "\n",
       "                                                   text  \n",
       "0                    Just happened a terrible car crash  \n",
       "1     Heard about #earthquake is different cities, s...  \n",
       "2     there is a forest fire at spot pond, geese are...  \n",
       "3              Apocalypse lighting. #Spokane #wildfires  \n",
       "4         Typhoon Soudelor kills 28 in China and Taiwan  \n",
       "...                                                 ...  \n",
       "3258  EARTHQUAKE SAFETY LOS ANGELES ÛÒ SAFETY FASTE...  \n",
       "3259  Storm in RI worse than last hurricane. My city...  \n",
       "3260  Green Line derailment in Chicago http://t.co/U...  \n",
       "3261  MEG issues Hazardous Weather Outlook (HWO) htt...  \n",
       "3262  #CityofCalgary has activated its Municipal Eme...  \n",
       "\n",
       "[3263 rows x 4 columns]"
      ]
     },
     "execution_count": 4,
     "metadata": {},
     "output_type": "execute_result"
    }
   ],
   "source": [
    "test"
   ]
  },
  {
   "cell_type": "code",
   "execution_count": 5,
   "id": "37f217fc",
   "metadata": {
    "execution": {
     "iopub.execute_input": "2024-02-19T10:39:54.806854Z",
     "iopub.status.busy": "2024-02-19T10:39:54.806529Z",
     "iopub.status.idle": "2024-02-19T10:39:54.814673Z",
     "shell.execute_reply": "2024-02-19T10:39:54.814006Z"
    },
    "papermill": {
     "duration": 0.021089,
     "end_time": "2024-02-19T10:39:54.816492",
     "exception": false,
     "start_time": "2024-02-19T10:39:54.795403",
     "status": "completed"
    },
    "tags": []
   },
   "outputs": [],
   "source": [
    "missing_values = train.isnull().sum()"
   ]
  },
  {
   "cell_type": "code",
   "execution_count": 6,
   "id": "b2f1c731",
   "metadata": {
    "execution": {
     "iopub.execute_input": "2024-02-19T10:39:54.838293Z",
     "iopub.status.busy": "2024-02-19T10:39:54.837665Z",
     "iopub.status.idle": "2024-02-19T10:39:54.843842Z",
     "shell.execute_reply": "2024-02-19T10:39:54.843065Z"
    },
    "papermill": {
     "duration": 0.019103,
     "end_time": "2024-02-19T10:39:54.845856",
     "exception": false,
     "start_time": "2024-02-19T10:39:54.826753",
     "status": "completed"
    },
    "tags": []
   },
   "outputs": [
    {
     "data": {
      "text/plain": [
       "id             0\n",
       "keyword       61\n",
       "location    2533\n",
       "text           0\n",
       "target         0\n",
       "dtype: int64"
      ]
     },
     "execution_count": 6,
     "metadata": {},
     "output_type": "execute_result"
    }
   ],
   "source": [
    "missing_values"
   ]
  },
  {
   "cell_type": "code",
   "execution_count": 7,
   "id": "4bab4ee2",
   "metadata": {
    "execution": {
     "iopub.execute_input": "2024-02-19T10:39:54.867701Z",
     "iopub.status.busy": "2024-02-19T10:39:54.867414Z",
     "iopub.status.idle": "2024-02-19T10:39:54.874950Z",
     "shell.execute_reply": "2024-02-19T10:39:54.874119Z"
    },
    "papermill": {
     "duration": 0.020563,
     "end_time": "2024-02-19T10:39:54.876840",
     "exception": false,
     "start_time": "2024-02-19T10:39:54.856277",
     "status": "completed"
    },
    "tags": []
   },
   "outputs": [],
   "source": [
    "train = train.drop('location', axis=1)\n",
    "test = test.drop('location', axis=1)"
   ]
  },
  {
   "cell_type": "code",
   "execution_count": 8,
   "id": "a26c3e1a",
   "metadata": {
    "execution": {
     "iopub.execute_input": "2024-02-19T10:39:54.899185Z",
     "iopub.status.busy": "2024-02-19T10:39:54.898520Z",
     "iopub.status.idle": "2024-02-19T10:39:54.908819Z",
     "shell.execute_reply": "2024-02-19T10:39:54.908027Z"
    },
    "papermill": {
     "duration": 0.023257,
     "end_time": "2024-02-19T10:39:54.910676",
     "exception": false,
     "start_time": "2024-02-19T10:39:54.887419",
     "status": "completed"
    },
    "tags": []
   },
   "outputs": [
    {
     "data": {
      "text/html": [
       "<div>\n",
       "<style scoped>\n",
       "    .dataframe tbody tr th:only-of-type {\n",
       "        vertical-align: middle;\n",
       "    }\n",
       "\n",
       "    .dataframe tbody tr th {\n",
       "        vertical-align: top;\n",
       "    }\n",
       "\n",
       "    .dataframe thead th {\n",
       "        text-align: right;\n",
       "    }\n",
       "</style>\n",
       "<table border=\"1\" class=\"dataframe\">\n",
       "  <thead>\n",
       "    <tr style=\"text-align: right;\">\n",
       "      <th></th>\n",
       "      <th>id</th>\n",
       "      <th>keyword</th>\n",
       "      <th>text</th>\n",
       "      <th>target</th>\n",
       "    </tr>\n",
       "  </thead>\n",
       "  <tbody>\n",
       "    <tr>\n",
       "      <th>0</th>\n",
       "      <td>1</td>\n",
       "      <td>NaN</td>\n",
       "      <td>Our Deeds are the Reason of this #earthquake M...</td>\n",
       "      <td>1</td>\n",
       "    </tr>\n",
       "    <tr>\n",
       "      <th>1</th>\n",
       "      <td>4</td>\n",
       "      <td>NaN</td>\n",
       "      <td>Forest fire near La Ronge Sask. Canada</td>\n",
       "      <td>1</td>\n",
       "    </tr>\n",
       "    <tr>\n",
       "      <th>2</th>\n",
       "      <td>5</td>\n",
       "      <td>NaN</td>\n",
       "      <td>All residents asked to 'shelter in place' are ...</td>\n",
       "      <td>1</td>\n",
       "    </tr>\n",
       "    <tr>\n",
       "      <th>3</th>\n",
       "      <td>6</td>\n",
       "      <td>NaN</td>\n",
       "      <td>13,000 people receive #wildfires evacuation or...</td>\n",
       "      <td>1</td>\n",
       "    </tr>\n",
       "    <tr>\n",
       "      <th>4</th>\n",
       "      <td>7</td>\n",
       "      <td>NaN</td>\n",
       "      <td>Just got sent this photo from Ruby #Alaska as ...</td>\n",
       "      <td>1</td>\n",
       "    </tr>\n",
       "    <tr>\n",
       "      <th>...</th>\n",
       "      <td>...</td>\n",
       "      <td>...</td>\n",
       "      <td>...</td>\n",
       "      <td>...</td>\n",
       "    </tr>\n",
       "    <tr>\n",
       "      <th>7608</th>\n",
       "      <td>10869</td>\n",
       "      <td>NaN</td>\n",
       "      <td>Two giant cranes holding a bridge collapse int...</td>\n",
       "      <td>1</td>\n",
       "    </tr>\n",
       "    <tr>\n",
       "      <th>7609</th>\n",
       "      <td>10870</td>\n",
       "      <td>NaN</td>\n",
       "      <td>@aria_ahrary @TheTawniest The out of control w...</td>\n",
       "      <td>1</td>\n",
       "    </tr>\n",
       "    <tr>\n",
       "      <th>7610</th>\n",
       "      <td>10871</td>\n",
       "      <td>NaN</td>\n",
       "      <td>M1.94 [01:04 UTC]?5km S of Volcano Hawaii. htt...</td>\n",
       "      <td>1</td>\n",
       "    </tr>\n",
       "    <tr>\n",
       "      <th>7611</th>\n",
       "      <td>10872</td>\n",
       "      <td>NaN</td>\n",
       "      <td>Police investigating after an e-bike collided ...</td>\n",
       "      <td>1</td>\n",
       "    </tr>\n",
       "    <tr>\n",
       "      <th>7612</th>\n",
       "      <td>10873</td>\n",
       "      <td>NaN</td>\n",
       "      <td>The Latest: More Homes Razed by Northern Calif...</td>\n",
       "      <td>1</td>\n",
       "    </tr>\n",
       "  </tbody>\n",
       "</table>\n",
       "<p>7613 rows × 4 columns</p>\n",
       "</div>"
      ],
      "text/plain": [
       "         id keyword                                               text  target\n",
       "0         1     NaN  Our Deeds are the Reason of this #earthquake M...       1\n",
       "1         4     NaN             Forest fire near La Ronge Sask. Canada       1\n",
       "2         5     NaN  All residents asked to 'shelter in place' are ...       1\n",
       "3         6     NaN  13,000 people receive #wildfires evacuation or...       1\n",
       "4         7     NaN  Just got sent this photo from Ruby #Alaska as ...       1\n",
       "...     ...     ...                                                ...     ...\n",
       "7608  10869     NaN  Two giant cranes holding a bridge collapse int...       1\n",
       "7609  10870     NaN  @aria_ahrary @TheTawniest The out of control w...       1\n",
       "7610  10871     NaN  M1.94 [01:04 UTC]?5km S of Volcano Hawaii. htt...       1\n",
       "7611  10872     NaN  Police investigating after an e-bike collided ...       1\n",
       "7612  10873     NaN  The Latest: More Homes Razed by Northern Calif...       1\n",
       "\n",
       "[7613 rows x 4 columns]"
      ]
     },
     "execution_count": 8,
     "metadata": {},
     "output_type": "execute_result"
    }
   ],
   "source": [
    "train"
   ]
  },
  {
   "cell_type": "code",
   "execution_count": 9,
   "id": "a970b03c",
   "metadata": {
    "execution": {
     "iopub.execute_input": "2024-02-19T10:39:54.933283Z",
     "iopub.status.busy": "2024-02-19T10:39:54.932644Z",
     "iopub.status.idle": "2024-02-19T10:39:54.942064Z",
     "shell.execute_reply": "2024-02-19T10:39:54.941244Z"
    },
    "papermill": {
     "duration": 0.02259,
     "end_time": "2024-02-19T10:39:54.943944",
     "exception": false,
     "start_time": "2024-02-19T10:39:54.921354",
     "status": "completed"
    },
    "tags": []
   },
   "outputs": [
    {
     "data": {
      "text/html": [
       "<div>\n",
       "<style scoped>\n",
       "    .dataframe tbody tr th:only-of-type {\n",
       "        vertical-align: middle;\n",
       "    }\n",
       "\n",
       "    .dataframe tbody tr th {\n",
       "        vertical-align: top;\n",
       "    }\n",
       "\n",
       "    .dataframe thead th {\n",
       "        text-align: right;\n",
       "    }\n",
       "</style>\n",
       "<table border=\"1\" class=\"dataframe\">\n",
       "  <thead>\n",
       "    <tr style=\"text-align: right;\">\n",
       "      <th></th>\n",
       "      <th>id</th>\n",
       "      <th>keyword</th>\n",
       "      <th>text</th>\n",
       "    </tr>\n",
       "  </thead>\n",
       "  <tbody>\n",
       "    <tr>\n",
       "      <th>0</th>\n",
       "      <td>0</td>\n",
       "      <td>NaN</td>\n",
       "      <td>Just happened a terrible car crash</td>\n",
       "    </tr>\n",
       "    <tr>\n",
       "      <th>1</th>\n",
       "      <td>2</td>\n",
       "      <td>NaN</td>\n",
       "      <td>Heard about #earthquake is different cities, s...</td>\n",
       "    </tr>\n",
       "    <tr>\n",
       "      <th>2</th>\n",
       "      <td>3</td>\n",
       "      <td>NaN</td>\n",
       "      <td>there is a forest fire at spot pond, geese are...</td>\n",
       "    </tr>\n",
       "    <tr>\n",
       "      <th>3</th>\n",
       "      <td>9</td>\n",
       "      <td>NaN</td>\n",
       "      <td>Apocalypse lighting. #Spokane #wildfires</td>\n",
       "    </tr>\n",
       "    <tr>\n",
       "      <th>4</th>\n",
       "      <td>11</td>\n",
       "      <td>NaN</td>\n",
       "      <td>Typhoon Soudelor kills 28 in China and Taiwan</td>\n",
       "    </tr>\n",
       "    <tr>\n",
       "      <th>...</th>\n",
       "      <td>...</td>\n",
       "      <td>...</td>\n",
       "      <td>...</td>\n",
       "    </tr>\n",
       "    <tr>\n",
       "      <th>3258</th>\n",
       "      <td>10861</td>\n",
       "      <td>NaN</td>\n",
       "      <td>EARTHQUAKE SAFETY LOS ANGELES ÛÒ SAFETY FASTE...</td>\n",
       "    </tr>\n",
       "    <tr>\n",
       "      <th>3259</th>\n",
       "      <td>10865</td>\n",
       "      <td>NaN</td>\n",
       "      <td>Storm in RI worse than last hurricane. My city...</td>\n",
       "    </tr>\n",
       "    <tr>\n",
       "      <th>3260</th>\n",
       "      <td>10868</td>\n",
       "      <td>NaN</td>\n",
       "      <td>Green Line derailment in Chicago http://t.co/U...</td>\n",
       "    </tr>\n",
       "    <tr>\n",
       "      <th>3261</th>\n",
       "      <td>10874</td>\n",
       "      <td>NaN</td>\n",
       "      <td>MEG issues Hazardous Weather Outlook (HWO) htt...</td>\n",
       "    </tr>\n",
       "    <tr>\n",
       "      <th>3262</th>\n",
       "      <td>10875</td>\n",
       "      <td>NaN</td>\n",
       "      <td>#CityofCalgary has activated its Municipal Eme...</td>\n",
       "    </tr>\n",
       "  </tbody>\n",
       "</table>\n",
       "<p>3263 rows × 3 columns</p>\n",
       "</div>"
      ],
      "text/plain": [
       "         id keyword                                               text\n",
       "0         0     NaN                 Just happened a terrible car crash\n",
       "1         2     NaN  Heard about #earthquake is different cities, s...\n",
       "2         3     NaN  there is a forest fire at spot pond, geese are...\n",
       "3         9     NaN           Apocalypse lighting. #Spokane #wildfires\n",
       "4        11     NaN      Typhoon Soudelor kills 28 in China and Taiwan\n",
       "...     ...     ...                                                ...\n",
       "3258  10861     NaN  EARTHQUAKE SAFETY LOS ANGELES ÛÒ SAFETY FASTE...\n",
       "3259  10865     NaN  Storm in RI worse than last hurricane. My city...\n",
       "3260  10868     NaN  Green Line derailment in Chicago http://t.co/U...\n",
       "3261  10874     NaN  MEG issues Hazardous Weather Outlook (HWO) htt...\n",
       "3262  10875     NaN  #CityofCalgary has activated its Municipal Eme...\n",
       "\n",
       "[3263 rows x 3 columns]"
      ]
     },
     "execution_count": 9,
     "metadata": {},
     "output_type": "execute_result"
    }
   ],
   "source": [
    "test"
   ]
  },
  {
   "cell_type": "code",
   "execution_count": 10,
   "id": "c0c1f98f",
   "metadata": {
    "execution": {
     "iopub.execute_input": "2024-02-19T10:39:54.966812Z",
     "iopub.status.busy": "2024-02-19T10:39:54.966520Z",
     "iopub.status.idle": "2024-02-19T10:39:54.974635Z",
     "shell.execute_reply": "2024-02-19T10:39:54.973790Z"
    },
    "papermill": {
     "duration": 0.021718,
     "end_time": "2024-02-19T10:39:54.976530",
     "exception": false,
     "start_time": "2024-02-19T10:39:54.954812",
     "status": "completed"
    },
    "tags": []
   },
   "outputs": [],
   "source": [
    "test=test.dropna()\n",
    "train=train.dropna()"
   ]
  },
  {
   "cell_type": "code",
   "execution_count": 11,
   "id": "7b8ba7d5",
   "metadata": {
    "execution": {
     "iopub.execute_input": "2024-02-19T10:39:55.000403Z",
     "iopub.status.busy": "2024-02-19T10:39:54.999784Z",
     "iopub.status.idle": "2024-02-19T10:39:55.009491Z",
     "shell.execute_reply": "2024-02-19T10:39:55.008669Z"
    },
    "papermill": {
     "duration": 0.024297,
     "end_time": "2024-02-19T10:39:55.011686",
     "exception": false,
     "start_time": "2024-02-19T10:39:54.987389",
     "status": "completed"
    },
    "tags": []
   },
   "outputs": [
    {
     "data": {
      "text/html": [
       "<div>\n",
       "<style scoped>\n",
       "    .dataframe tbody tr th:only-of-type {\n",
       "        vertical-align: middle;\n",
       "    }\n",
       "\n",
       "    .dataframe tbody tr th {\n",
       "        vertical-align: top;\n",
       "    }\n",
       "\n",
       "    .dataframe thead th {\n",
       "        text-align: right;\n",
       "    }\n",
       "</style>\n",
       "<table border=\"1\" class=\"dataframe\">\n",
       "  <thead>\n",
       "    <tr style=\"text-align: right;\">\n",
       "      <th></th>\n",
       "      <th>id</th>\n",
       "      <th>keyword</th>\n",
       "      <th>text</th>\n",
       "    </tr>\n",
       "  </thead>\n",
       "  <tbody>\n",
       "    <tr>\n",
       "      <th>15</th>\n",
       "      <td>46</td>\n",
       "      <td>ablaze</td>\n",
       "      <td>Birmingham Wholesale Market is ablaze BBC News...</td>\n",
       "    </tr>\n",
       "    <tr>\n",
       "      <th>16</th>\n",
       "      <td>47</td>\n",
       "      <td>ablaze</td>\n",
       "      <td>@sunkxssedharry will you wear shorts for race ...</td>\n",
       "    </tr>\n",
       "    <tr>\n",
       "      <th>17</th>\n",
       "      <td>51</td>\n",
       "      <td>ablaze</td>\n",
       "      <td>#PreviouslyOnDoyinTv: Toke MakinwaÛªs marriag...</td>\n",
       "    </tr>\n",
       "    <tr>\n",
       "      <th>18</th>\n",
       "      <td>58</td>\n",
       "      <td>ablaze</td>\n",
       "      <td>Check these out: http://t.co/rOI2NSmEJJ http:/...</td>\n",
       "    </tr>\n",
       "    <tr>\n",
       "      <th>19</th>\n",
       "      <td>60</td>\n",
       "      <td>ablaze</td>\n",
       "      <td>PSA: IÛªm splitting my personalities.\\n\\n?? t...</td>\n",
       "    </tr>\n",
       "    <tr>\n",
       "      <th>...</th>\n",
       "      <td>...</td>\n",
       "      <td>...</td>\n",
       "      <td>...</td>\n",
       "    </tr>\n",
       "    <tr>\n",
       "      <th>3247</th>\n",
       "      <td>10806</td>\n",
       "      <td>wrecked</td>\n",
       "      <td>RT CNBC '3 words from Disney CEO Bob Iger wrec...</td>\n",
       "    </tr>\n",
       "    <tr>\n",
       "      <th>3248</th>\n",
       "      <td>10807</td>\n",
       "      <td>wrecked</td>\n",
       "      <td>Smackdown tyme this should put me in a good mo...</td>\n",
       "    </tr>\n",
       "    <tr>\n",
       "      <th>3249</th>\n",
       "      <td>10816</td>\n",
       "      <td>wrecked</td>\n",
       "      <td>@thrillhho jsyk I haven't stopped thinking abt...</td>\n",
       "    </tr>\n",
       "    <tr>\n",
       "      <th>3250</th>\n",
       "      <td>10820</td>\n",
       "      <td>wrecked</td>\n",
       "      <td>@stighefootball Begovic has been garbage. He g...</td>\n",
       "    </tr>\n",
       "    <tr>\n",
       "      <th>3251</th>\n",
       "      <td>10828</td>\n",
       "      <td>wrecked</td>\n",
       "      <td>Wrecked today got my hattrick ????</td>\n",
       "    </tr>\n",
       "  </tbody>\n",
       "</table>\n",
       "<p>3237 rows × 3 columns</p>\n",
       "</div>"
      ],
      "text/plain": [
       "         id  keyword                                               text\n",
       "15       46   ablaze  Birmingham Wholesale Market is ablaze BBC News...\n",
       "16       47   ablaze  @sunkxssedharry will you wear shorts for race ...\n",
       "17       51   ablaze  #PreviouslyOnDoyinTv: Toke MakinwaÛªs marriag...\n",
       "18       58   ablaze  Check these out: http://t.co/rOI2NSmEJJ http:/...\n",
       "19       60   ablaze  PSA: IÛªm splitting my personalities.\\n\\n?? t...\n",
       "...     ...      ...                                                ...\n",
       "3247  10806  wrecked  RT CNBC '3 words from Disney CEO Bob Iger wrec...\n",
       "3248  10807  wrecked  Smackdown tyme this should put me in a good mo...\n",
       "3249  10816  wrecked  @thrillhho jsyk I haven't stopped thinking abt...\n",
       "3250  10820  wrecked  @stighefootball Begovic has been garbage. He g...\n",
       "3251  10828  wrecked                 Wrecked today got my hattrick ????\n",
       "\n",
       "[3237 rows x 3 columns]"
      ]
     },
     "execution_count": 11,
     "metadata": {},
     "output_type": "execute_result"
    }
   ],
   "source": [
    "test"
   ]
  },
  {
   "cell_type": "code",
   "execution_count": 12,
   "id": "3da48cc0",
   "metadata": {
    "execution": {
     "iopub.execute_input": "2024-02-19T10:39:55.035565Z",
     "iopub.status.busy": "2024-02-19T10:39:55.035310Z",
     "iopub.status.idle": "2024-02-19T10:39:55.046980Z",
     "shell.execute_reply": "2024-02-19T10:39:55.045900Z"
    },
    "papermill": {
     "duration": 0.025522,
     "end_time": "2024-02-19T10:39:55.048898",
     "exception": false,
     "start_time": "2024-02-19T10:39:55.023376",
     "status": "completed"
    },
    "tags": []
   },
   "outputs": [
    {
     "data": {
      "text/html": [
       "<div>\n",
       "<style scoped>\n",
       "    .dataframe tbody tr th:only-of-type {\n",
       "        vertical-align: middle;\n",
       "    }\n",
       "\n",
       "    .dataframe tbody tr th {\n",
       "        vertical-align: top;\n",
       "    }\n",
       "\n",
       "    .dataframe thead th {\n",
       "        text-align: right;\n",
       "    }\n",
       "</style>\n",
       "<table border=\"1\" class=\"dataframe\">\n",
       "  <thead>\n",
       "    <tr style=\"text-align: right;\">\n",
       "      <th></th>\n",
       "      <th>id</th>\n",
       "      <th>keyword</th>\n",
       "      <th>text</th>\n",
       "      <th>target</th>\n",
       "    </tr>\n",
       "  </thead>\n",
       "  <tbody>\n",
       "    <tr>\n",
       "      <th>31</th>\n",
       "      <td>48</td>\n",
       "      <td>ablaze</td>\n",
       "      <td>@bbcmtd Wholesale Markets ablaze http://t.co/l...</td>\n",
       "      <td>1</td>\n",
       "    </tr>\n",
       "    <tr>\n",
       "      <th>32</th>\n",
       "      <td>49</td>\n",
       "      <td>ablaze</td>\n",
       "      <td>We always try to bring the heavy. #metal #RT h...</td>\n",
       "      <td>0</td>\n",
       "    </tr>\n",
       "    <tr>\n",
       "      <th>33</th>\n",
       "      <td>50</td>\n",
       "      <td>ablaze</td>\n",
       "      <td>#AFRICANBAZE: Breaking news:Nigeria flag set a...</td>\n",
       "      <td>1</td>\n",
       "    </tr>\n",
       "    <tr>\n",
       "      <th>34</th>\n",
       "      <td>52</td>\n",
       "      <td>ablaze</td>\n",
       "      <td>Crying out for more! Set me ablaze</td>\n",
       "      <td>0</td>\n",
       "    </tr>\n",
       "    <tr>\n",
       "      <th>35</th>\n",
       "      <td>53</td>\n",
       "      <td>ablaze</td>\n",
       "      <td>On plus side LOOK AT THE SKY LAST NIGHT IT WAS...</td>\n",
       "      <td>0</td>\n",
       "    </tr>\n",
       "    <tr>\n",
       "      <th>...</th>\n",
       "      <td>...</td>\n",
       "      <td>...</td>\n",
       "      <td>...</td>\n",
       "      <td>...</td>\n",
       "    </tr>\n",
       "    <tr>\n",
       "      <th>7578</th>\n",
       "      <td>10830</td>\n",
       "      <td>wrecked</td>\n",
       "      <td>@jt_ruff23 @cameronhacker and I wrecked you both</td>\n",
       "      <td>0</td>\n",
       "    </tr>\n",
       "    <tr>\n",
       "      <th>7579</th>\n",
       "      <td>10831</td>\n",
       "      <td>wrecked</td>\n",
       "      <td>Three days off from work and they've pretty mu...</td>\n",
       "      <td>0</td>\n",
       "    </tr>\n",
       "    <tr>\n",
       "      <th>7580</th>\n",
       "      <td>10832</td>\n",
       "      <td>wrecked</td>\n",
       "      <td>#FX #forex #trading Cramer: Iger's 3 words tha...</td>\n",
       "      <td>0</td>\n",
       "    </tr>\n",
       "    <tr>\n",
       "      <th>7581</th>\n",
       "      <td>10833</td>\n",
       "      <td>wrecked</td>\n",
       "      <td>@engineshed Great atmosphere at the British Li...</td>\n",
       "      <td>0</td>\n",
       "    </tr>\n",
       "    <tr>\n",
       "      <th>7582</th>\n",
       "      <td>10834</td>\n",
       "      <td>wrecked</td>\n",
       "      <td>Cramer: Iger's 3 words that wrecked Disney's s...</td>\n",
       "      <td>0</td>\n",
       "    </tr>\n",
       "  </tbody>\n",
       "</table>\n",
       "<p>7552 rows × 4 columns</p>\n",
       "</div>"
      ],
      "text/plain": [
       "         id  keyword                                               text  \\\n",
       "31       48   ablaze  @bbcmtd Wholesale Markets ablaze http://t.co/l...   \n",
       "32       49   ablaze  We always try to bring the heavy. #metal #RT h...   \n",
       "33       50   ablaze  #AFRICANBAZE: Breaking news:Nigeria flag set a...   \n",
       "34       52   ablaze                 Crying out for more! Set me ablaze   \n",
       "35       53   ablaze  On plus side LOOK AT THE SKY LAST NIGHT IT WAS...   \n",
       "...     ...      ...                                                ...   \n",
       "7578  10830  wrecked   @jt_ruff23 @cameronhacker and I wrecked you both   \n",
       "7579  10831  wrecked  Three days off from work and they've pretty mu...   \n",
       "7580  10832  wrecked  #FX #forex #trading Cramer: Iger's 3 words tha...   \n",
       "7581  10833  wrecked  @engineshed Great atmosphere at the British Li...   \n",
       "7582  10834  wrecked  Cramer: Iger's 3 words that wrecked Disney's s...   \n",
       "\n",
       "      target  \n",
       "31         1  \n",
       "32         0  \n",
       "33         1  \n",
       "34         0  \n",
       "35         0  \n",
       "...      ...  \n",
       "7578       0  \n",
       "7579       0  \n",
       "7580       0  \n",
       "7581       0  \n",
       "7582       0  \n",
       "\n",
       "[7552 rows x 4 columns]"
      ]
     },
     "execution_count": 12,
     "metadata": {},
     "output_type": "execute_result"
    }
   ],
   "source": [
    "train"
   ]
  },
  {
   "cell_type": "markdown",
   "id": "59a5a097",
   "metadata": {
    "papermill": {
     "duration": 0.01112,
     "end_time": "2024-02-19T10:39:55.071417",
     "exception": false,
     "start_time": "2024-02-19T10:39:55.060297",
     "status": "completed"
    },
    "tags": []
   },
   "source": [
    "## Setting Index"
   ]
  },
  {
   "cell_type": "code",
   "execution_count": 13,
   "id": "cd490b65",
   "metadata": {
    "execution": {
     "iopub.execute_input": "2024-02-19T10:39:55.095127Z",
     "iopub.status.busy": "2024-02-19T10:39:55.094860Z",
     "iopub.status.idle": "2024-02-19T10:39:55.101330Z",
     "shell.execute_reply": "2024-02-19T10:39:55.100539Z"
    },
    "papermill": {
     "duration": 0.020452,
     "end_time": "2024-02-19T10:39:55.103194",
     "exception": false,
     "start_time": "2024-02-19T10:39:55.082742",
     "status": "completed"
    },
    "tags": []
   },
   "outputs": [],
   "source": [
    "train.set_index('id', inplace=True)\n",
    "test.set_index('id', inplace=True)"
   ]
  },
  {
   "cell_type": "code",
   "execution_count": 14,
   "id": "1531a682",
   "metadata": {
    "execution": {
     "iopub.execute_input": "2024-02-19T10:39:55.127335Z",
     "iopub.status.busy": "2024-02-19T10:39:55.127045Z",
     "iopub.status.idle": "2024-02-19T10:39:55.137593Z",
     "shell.execute_reply": "2024-02-19T10:39:55.136735Z"
    },
    "papermill": {
     "duration": 0.024954,
     "end_time": "2024-02-19T10:39:55.139580",
     "exception": false,
     "start_time": "2024-02-19T10:39:55.114626",
     "status": "completed"
    },
    "tags": []
   },
   "outputs": [
    {
     "data": {
      "text/html": [
       "<div>\n",
       "<style scoped>\n",
       "    .dataframe tbody tr th:only-of-type {\n",
       "        vertical-align: middle;\n",
       "    }\n",
       "\n",
       "    .dataframe tbody tr th {\n",
       "        vertical-align: top;\n",
       "    }\n",
       "\n",
       "    .dataframe thead th {\n",
       "        text-align: right;\n",
       "    }\n",
       "</style>\n",
       "<table border=\"1\" class=\"dataframe\">\n",
       "  <thead>\n",
       "    <tr style=\"text-align: right;\">\n",
       "      <th></th>\n",
       "      <th>keyword</th>\n",
       "      <th>text</th>\n",
       "      <th>target</th>\n",
       "    </tr>\n",
       "    <tr>\n",
       "      <th>id</th>\n",
       "      <th></th>\n",
       "      <th></th>\n",
       "      <th></th>\n",
       "    </tr>\n",
       "  </thead>\n",
       "  <tbody>\n",
       "    <tr>\n",
       "      <th>48</th>\n",
       "      <td>ablaze</td>\n",
       "      <td>@bbcmtd Wholesale Markets ablaze http://t.co/l...</td>\n",
       "      <td>1</td>\n",
       "    </tr>\n",
       "    <tr>\n",
       "      <th>49</th>\n",
       "      <td>ablaze</td>\n",
       "      <td>We always try to bring the heavy. #metal #RT h...</td>\n",
       "      <td>0</td>\n",
       "    </tr>\n",
       "    <tr>\n",
       "      <th>50</th>\n",
       "      <td>ablaze</td>\n",
       "      <td>#AFRICANBAZE: Breaking news:Nigeria flag set a...</td>\n",
       "      <td>1</td>\n",
       "    </tr>\n",
       "    <tr>\n",
       "      <th>52</th>\n",
       "      <td>ablaze</td>\n",
       "      <td>Crying out for more! Set me ablaze</td>\n",
       "      <td>0</td>\n",
       "    </tr>\n",
       "    <tr>\n",
       "      <th>53</th>\n",
       "      <td>ablaze</td>\n",
       "      <td>On plus side LOOK AT THE SKY LAST NIGHT IT WAS...</td>\n",
       "      <td>0</td>\n",
       "    </tr>\n",
       "    <tr>\n",
       "      <th>...</th>\n",
       "      <td>...</td>\n",
       "      <td>...</td>\n",
       "      <td>...</td>\n",
       "    </tr>\n",
       "    <tr>\n",
       "      <th>10830</th>\n",
       "      <td>wrecked</td>\n",
       "      <td>@jt_ruff23 @cameronhacker and I wrecked you both</td>\n",
       "      <td>0</td>\n",
       "    </tr>\n",
       "    <tr>\n",
       "      <th>10831</th>\n",
       "      <td>wrecked</td>\n",
       "      <td>Three days off from work and they've pretty mu...</td>\n",
       "      <td>0</td>\n",
       "    </tr>\n",
       "    <tr>\n",
       "      <th>10832</th>\n",
       "      <td>wrecked</td>\n",
       "      <td>#FX #forex #trading Cramer: Iger's 3 words tha...</td>\n",
       "      <td>0</td>\n",
       "    </tr>\n",
       "    <tr>\n",
       "      <th>10833</th>\n",
       "      <td>wrecked</td>\n",
       "      <td>@engineshed Great atmosphere at the British Li...</td>\n",
       "      <td>0</td>\n",
       "    </tr>\n",
       "    <tr>\n",
       "      <th>10834</th>\n",
       "      <td>wrecked</td>\n",
       "      <td>Cramer: Iger's 3 words that wrecked Disney's s...</td>\n",
       "      <td>0</td>\n",
       "    </tr>\n",
       "  </tbody>\n",
       "</table>\n",
       "<p>7552 rows × 3 columns</p>\n",
       "</div>"
      ],
      "text/plain": [
       "       keyword                                               text  target\n",
       "id                                                                       \n",
       "48      ablaze  @bbcmtd Wholesale Markets ablaze http://t.co/l...       1\n",
       "49      ablaze  We always try to bring the heavy. #metal #RT h...       0\n",
       "50      ablaze  #AFRICANBAZE: Breaking news:Nigeria flag set a...       1\n",
       "52      ablaze                 Crying out for more! Set me ablaze       0\n",
       "53      ablaze  On plus side LOOK AT THE SKY LAST NIGHT IT WAS...       0\n",
       "...        ...                                                ...     ...\n",
       "10830  wrecked   @jt_ruff23 @cameronhacker and I wrecked you both       0\n",
       "10831  wrecked  Three days off from work and they've pretty mu...       0\n",
       "10832  wrecked  #FX #forex #trading Cramer: Iger's 3 words tha...       0\n",
       "10833  wrecked  @engineshed Great atmosphere at the British Li...       0\n",
       "10834  wrecked  Cramer: Iger's 3 words that wrecked Disney's s...       0\n",
       "\n",
       "[7552 rows x 3 columns]"
      ]
     },
     "execution_count": 14,
     "metadata": {},
     "output_type": "execute_result"
    }
   ],
   "source": [
    "train\n"
   ]
  },
  {
   "cell_type": "markdown",
   "id": "4dd3877a",
   "metadata": {
    "papermill": {
     "duration": 0.011458,
     "end_time": "2024-02-19T10:39:55.162662",
     "exception": false,
     "start_time": "2024-02-19T10:39:55.151204",
     "status": "completed"
    },
    "tags": []
   },
   "source": [
    "## Concat"
   ]
  },
  {
   "cell_type": "code",
   "execution_count": 15,
   "id": "fbee3a1f",
   "metadata": {
    "execution": {
     "iopub.execute_input": "2024-02-19T10:39:55.187832Z",
     "iopub.status.busy": "2024-02-19T10:39:55.187503Z",
     "iopub.status.idle": "2024-02-19T10:39:55.192900Z",
     "shell.execute_reply": "2024-02-19T10:39:55.192026Z"
    },
    "papermill": {
     "duration": 0.020342,
     "end_time": "2024-02-19T10:39:55.194774",
     "exception": false,
     "start_time": "2024-02-19T10:39:55.174432",
     "status": "completed"
    },
    "tags": []
   },
   "outputs": [],
   "source": [
    "df = pd.DataFrame()"
   ]
  },
  {
   "cell_type": "code",
   "execution_count": 16,
   "id": "afb992fe",
   "metadata": {
    "execution": {
     "iopub.execute_input": "2024-02-19T10:39:55.219446Z",
     "iopub.status.busy": "2024-02-19T10:39:55.219160Z",
     "iopub.status.idle": "2024-02-19T10:39:55.228424Z",
     "shell.execute_reply": "2024-02-19T10:39:55.227752Z"
    },
    "papermill": {
     "duration": 0.024008,
     "end_time": "2024-02-19T10:39:55.230557",
     "exception": false,
     "start_time": "2024-02-19T10:39:55.206549",
     "status": "completed"
    },
    "tags": []
   },
   "outputs": [],
   "source": [
    "df['text']=train[\"keyword\"]+\"[SEP]\"+train[\"text\"]"
   ]
  },
  {
   "cell_type": "code",
   "execution_count": 17,
   "id": "98689d9b",
   "metadata": {
    "execution": {
     "iopub.execute_input": "2024-02-19T10:39:55.256645Z",
     "iopub.status.busy": "2024-02-19T10:39:55.256335Z",
     "iopub.status.idle": "2024-02-19T10:39:55.260889Z",
     "shell.execute_reply": "2024-02-19T10:39:55.260067Z"
    },
    "papermill": {
     "duration": 0.018785,
     "end_time": "2024-02-19T10:39:55.262717",
     "exception": false,
     "start_time": "2024-02-19T10:39:55.243932",
     "status": "completed"
    },
    "tags": []
   },
   "outputs": [],
   "source": [
    "df['target']=train['target']"
   ]
  },
  {
   "cell_type": "code",
   "execution_count": 18,
   "id": "c5860533",
   "metadata": {
    "execution": {
     "iopub.execute_input": "2024-02-19T10:39:55.287019Z",
     "iopub.status.busy": "2024-02-19T10:39:55.286750Z",
     "iopub.status.idle": "2024-02-19T10:39:55.296485Z",
     "shell.execute_reply": "2024-02-19T10:39:55.295640Z"
    },
    "papermill": {
     "duration": 0.02378,
     "end_time": "2024-02-19T10:39:55.298247",
     "exception": false,
     "start_time": "2024-02-19T10:39:55.274467",
     "status": "completed"
    },
    "tags": []
   },
   "outputs": [
    {
     "data": {
      "text/html": [
       "<div>\n",
       "<style scoped>\n",
       "    .dataframe tbody tr th:only-of-type {\n",
       "        vertical-align: middle;\n",
       "    }\n",
       "\n",
       "    .dataframe tbody tr th {\n",
       "        vertical-align: top;\n",
       "    }\n",
       "\n",
       "    .dataframe thead th {\n",
       "        text-align: right;\n",
       "    }\n",
       "</style>\n",
       "<table border=\"1\" class=\"dataframe\">\n",
       "  <thead>\n",
       "    <tr style=\"text-align: right;\">\n",
       "      <th></th>\n",
       "      <th>text</th>\n",
       "      <th>target</th>\n",
       "    </tr>\n",
       "    <tr>\n",
       "      <th>id</th>\n",
       "      <th></th>\n",
       "      <th></th>\n",
       "    </tr>\n",
       "  </thead>\n",
       "  <tbody>\n",
       "    <tr>\n",
       "      <th>48</th>\n",
       "      <td>ablaze[SEP]@bbcmtd Wholesale Markets ablaze ht...</td>\n",
       "      <td>1</td>\n",
       "    </tr>\n",
       "    <tr>\n",
       "      <th>49</th>\n",
       "      <td>ablaze[SEP]We always try to bring the heavy. #...</td>\n",
       "      <td>0</td>\n",
       "    </tr>\n",
       "    <tr>\n",
       "      <th>50</th>\n",
       "      <td>ablaze[SEP]#AFRICANBAZE: Breaking news:Nigeria...</td>\n",
       "      <td>1</td>\n",
       "    </tr>\n",
       "    <tr>\n",
       "      <th>52</th>\n",
       "      <td>ablaze[SEP]Crying out for more! Set me ablaze</td>\n",
       "      <td>0</td>\n",
       "    </tr>\n",
       "    <tr>\n",
       "      <th>53</th>\n",
       "      <td>ablaze[SEP]On plus side LOOK AT THE SKY LAST N...</td>\n",
       "      <td>0</td>\n",
       "    </tr>\n",
       "    <tr>\n",
       "      <th>...</th>\n",
       "      <td>...</td>\n",
       "      <td>...</td>\n",
       "    </tr>\n",
       "    <tr>\n",
       "      <th>10830</th>\n",
       "      <td>wrecked[SEP]@jt_ruff23 @cameronhacker and I wr...</td>\n",
       "      <td>0</td>\n",
       "    </tr>\n",
       "    <tr>\n",
       "      <th>10831</th>\n",
       "      <td>wrecked[SEP]Three days off from work and they'...</td>\n",
       "      <td>0</td>\n",
       "    </tr>\n",
       "    <tr>\n",
       "      <th>10832</th>\n",
       "      <td>wrecked[SEP]#FX #forex #trading Cramer: Iger's...</td>\n",
       "      <td>0</td>\n",
       "    </tr>\n",
       "    <tr>\n",
       "      <th>10833</th>\n",
       "      <td>wrecked[SEP]@engineshed Great atmosphere at th...</td>\n",
       "      <td>0</td>\n",
       "    </tr>\n",
       "    <tr>\n",
       "      <th>10834</th>\n",
       "      <td>wrecked[SEP]Cramer: Iger's 3 words that wrecke...</td>\n",
       "      <td>0</td>\n",
       "    </tr>\n",
       "  </tbody>\n",
       "</table>\n",
       "<p>7552 rows × 2 columns</p>\n",
       "</div>"
      ],
      "text/plain": [
       "                                                    text  target\n",
       "id                                                              \n",
       "48     ablaze[SEP]@bbcmtd Wholesale Markets ablaze ht...       1\n",
       "49     ablaze[SEP]We always try to bring the heavy. #...       0\n",
       "50     ablaze[SEP]#AFRICANBAZE: Breaking news:Nigeria...       1\n",
       "52         ablaze[SEP]Crying out for more! Set me ablaze       0\n",
       "53     ablaze[SEP]On plus side LOOK AT THE SKY LAST N...       0\n",
       "...                                                  ...     ...\n",
       "10830  wrecked[SEP]@jt_ruff23 @cameronhacker and I wr...       0\n",
       "10831  wrecked[SEP]Three days off from work and they'...       0\n",
       "10832  wrecked[SEP]#FX #forex #trading Cramer: Iger's...       0\n",
       "10833  wrecked[SEP]@engineshed Great atmosphere at th...       0\n",
       "10834  wrecked[SEP]Cramer: Iger's 3 words that wrecke...       0\n",
       "\n",
       "[7552 rows x 2 columns]"
      ]
     },
     "execution_count": 18,
     "metadata": {},
     "output_type": "execute_result"
    }
   ],
   "source": [
    "df"
   ]
  },
  {
   "cell_type": "markdown",
   "id": "3cc5b64a",
   "metadata": {
    "papermill": {
     "duration": 0.011767,
     "end_time": "2024-02-19T10:39:55.321771",
     "exception": false,
     "start_time": "2024-02-19T10:39:55.310004",
     "status": "completed"
    },
    "tags": []
   },
   "source": [
    "# Preprocess the data <a class=\"anchor\"  id=\"h2\"></a>"
   ]
  },
  {
   "cell_type": "code",
   "execution_count": 19,
   "id": "247d3817",
   "metadata": {
    "execution": {
     "iopub.execute_input": "2024-02-19T10:39:55.347036Z",
     "iopub.status.busy": "2024-02-19T10:39:55.346351Z",
     "iopub.status.idle": "2024-02-19T10:39:55.364180Z",
     "shell.execute_reply": "2024-02-19T10:39:55.363268Z"
    },
    "papermill": {
     "duration": 0.032717,
     "end_time": "2024-02-19T10:39:55.366227",
     "exception": false,
     "start_time": "2024-02-19T10:39:55.333510",
     "status": "completed"
    },
    "tags": []
   },
   "outputs": [],
   "source": [
    "from sklearn.model_selection import train_test_split\n",
    "\n",
    "X = df[\"text\"]\n",
    "y = df[\"target\"]\n",
    "\n",
    "X_train, X_val, y_train, y_val = train_test_split(X, y, test_size=0.2, random_state=42)\n",
    "\n",
    "X_test = test[\"text\"]"
   ]
  },
  {
   "cell_type": "code",
   "execution_count": 20,
   "id": "cf1faafe",
   "metadata": {
    "execution": {
     "iopub.execute_input": "2024-02-19T10:39:55.391925Z",
     "iopub.status.busy": "2024-02-19T10:39:55.391590Z",
     "iopub.status.idle": "2024-02-19T10:39:55.396303Z",
     "shell.execute_reply": "2024-02-19T10:39:55.395434Z"
    },
    "papermill": {
     "duration": 0.019643,
     "end_time": "2024-02-19T10:39:55.398259",
     "exception": false,
     "start_time": "2024-02-19T10:39:55.378616",
     "status": "completed"
    },
    "tags": []
   },
   "outputs": [],
   "source": [
    "BATCH_SIZE = 32\n",
    "NUM_TRAINING_EXAMPLES = df.shape[0]\n",
    "TRAIN_SPLIT = 0.8\n",
    "VAL_SPLIT = 0.2\n",
    "STEPS_PER_EPOCH = int(NUM_TRAINING_EXAMPLES)*TRAIN_SPLIT // BATCH_SIZE\n",
    "\n",
    "EPOCHS = 10\n",
    "AUTO = tf.data.experimental.AUTOTUNE"
   ]
  },
  {
   "cell_type": "markdown",
   "id": "1caa4343",
   "metadata": {
    "papermill": {
     "duration": 0.01161,
     "end_time": "2024-02-19T10:39:55.421791",
     "exception": false,
     "start_time": "2024-02-19T10:39:55.410181",
     "status": "completed"
    },
    "tags": []
   },
   "source": [
    "# Loadmodel <a class=\"anchor\"  id=\"h3\"></a>"
   ]
  },
  {
   "cell_type": "code",
   "execution_count": 21,
   "id": "70e5d21d",
   "metadata": {
    "execution": {
     "iopub.execute_input": "2024-02-19T10:39:55.446584Z",
     "iopub.status.busy": "2024-02-19T10:39:55.446307Z",
     "iopub.status.idle": "2024-02-19T10:40:05.763886Z",
     "shell.execute_reply": "2024-02-19T10:40:05.762955Z"
    },
    "papermill": {
     "duration": 10.33223,
     "end_time": "2024-02-19T10:40:05.765780",
     "exception": false,
     "start_time": "2024-02-19T10:39:55.433550",
     "status": "completed"
    },
    "tags": []
   },
   "outputs": [
    {
     "name": "stderr",
     "output_type": "stream",
     "text": [
      "Attaching 'tokenizer.json' from model 'keras/distil_bert/keras/distil_bert_base_en_uncased/2' to your Kaggle notebook...\n",
      "Attaching 'tokenizer.json' from model 'keras/distil_bert/keras/distil_bert_base_en_uncased/2' to your Kaggle notebook...\n",
      "Attaching 'assets/tokenizer/vocabulary.txt' from model 'keras/distil_bert/keras/distil_bert_base_en_uncased/2' to your Kaggle notebook...\n",
      "Attaching 'config.json' from model 'keras/distil_bert/keras/distil_bert_base_en_uncased/2' to your Kaggle notebook...\n",
      "Attaching 'config.json' from model 'keras/distil_bert/keras/distil_bert_base_en_uncased/2' to your Kaggle notebook...\n",
      "Attaching 'model.weights.h5' from model 'keras/distil_bert/keras/distil_bert_base_en_uncased/2' to your Kaggle notebook...\n",
      "/opt/conda/lib/python3.10/site-packages/keras_nlp/src/models/backbone.py:37: UserWarning: `Model.state_updates` will be removed in a future version. This property should not be used in TensorFlow 2.0, as `updates` are applied automatically.\n",
      "  return id(getattr(self, attr)) not in self._functional_layer_ids\n",
      "/opt/conda/lib/python3.10/site-packages/keras_nlp/src/models/backbone.py:37: UserWarning: `layer.updates` will be removed in a future version. This property should not be used in TensorFlow 2.0, as `updates` are applied automatically.\n",
      "  return id(getattr(self, attr)) not in self._functional_layer_ids\n"
     ]
    },
    {
     "data": {
      "text/html": [
       "<pre style=\"white-space:pre;overflow-x:auto;line-height:normal;font-family:Menlo,'DejaVu Sans Mono',consolas,'Courier New',monospace\"><span style=\"font-weight: bold\">Preprocessor: \"preprocessor_4_tweets\"</span>\n",
       "</pre>\n"
      ],
      "text/plain": [
       "\u001b[1mPreprocessor: \"preprocessor_4_tweets\"\u001b[0m\n"
      ]
     },
     "metadata": {},
     "output_type": "display_data"
    },
    {
     "data": {
      "text/html": [
       "<pre style=\"white-space:pre;overflow-x:auto;line-height:normal;font-family:Menlo,'DejaVu Sans Mono',consolas,'Courier New',monospace\">┏━━━━━━━━━━━━━━━━━━━━━━━━━━━━━━━━━━━━━━━━━━━━━━━━━━━━┳━━━━━━━━━━━━━━━━━━━━━━━━━━━━━━━━━━━━━━━━━━━━━━━━━━━━━┓\n",
       "┃<span style=\"font-weight: bold\"> Tokenizer (type)                                   </span>┃<span style=\"font-weight: bold\">                                             Vocab # </span>┃\n",
       "┡━━━━━━━━━━━━━━━━━━━━━━━━━━━━━━━━━━━━━━━━━━━━━━━━━━━━╇━━━━━━━━━━━━━━━━━━━━━━━━━━━━━━━━━━━━━━━━━━━━━━━━━━━━━┩\n",
       "│ distil_bert_tokenizer (<span style=\"color: #0087ff; text-decoration-color: #0087ff\">DistilBertTokenizer</span>)        │                                              <span style=\"color: #00af00; text-decoration-color: #00af00\">30,522</span> │\n",
       "└────────────────────────────────────────────────────┴─────────────────────────────────────────────────────┘\n",
       "</pre>\n"
      ],
      "text/plain": [
       "┏━━━━━━━━━━━━━━━━━━━━━━━━━━━━━━━━━━━━━━━━━━━━━━━━━━━━┳━━━━━━━━━━━━━━━━━━━━━━━━━━━━━━━━━━━━━━━━━━━━━━━━━━━━━┓\n",
       "┃\u001b[1m \u001b[0m\u001b[1mTokenizer (type)                                  \u001b[0m\u001b[1m \u001b[0m┃\u001b[1m \u001b[0m\u001b[1m                                            Vocab #\u001b[0m\u001b[1m \u001b[0m┃\n",
       "┡━━━━━━━━━━━━━━━━━━━━━━━━━━━━━━━━━━━━━━━━━━━━━━━━━━━━╇━━━━━━━━━━━━━━━━━━━━━━━━━━━━━━━━━━━━━━━━━━━━━━━━━━━━━┩\n",
       "│ distil_bert_tokenizer (\u001b[38;5;33mDistilBertTokenizer\u001b[0m)        │                                              \u001b[38;5;34m30,522\u001b[0m │\n",
       "└────────────────────────────────────────────────────┴─────────────────────────────────────────────────────┘\n"
      ]
     },
     "metadata": {},
     "output_type": "display_data"
    },
    {
     "data": {
      "text/html": [
       "<pre style=\"white-space:pre;overflow-x:auto;line-height:normal;font-family:Menlo,'DejaVu Sans Mono',consolas,'Courier New',monospace\"><span style=\"font-weight: bold\">Model: \"distil_bert_classifier\"</span>\n",
       "</pre>\n"
      ],
      "text/plain": [
       "\u001b[1mModel: \"distil_bert_classifier\"\u001b[0m\n"
      ]
     },
     "metadata": {},
     "output_type": "display_data"
    },
    {
     "data": {
      "text/html": [
       "<pre style=\"white-space:pre;overflow-x:auto;line-height:normal;font-family:Menlo,'DejaVu Sans Mono',consolas,'Courier New',monospace\">┏━━━━━━━━━━━━━━━━━━━━━━━━━━━━━━━━━━━━━━━━━━━━━━━┳━━━━━━━━━━━━━━━━━━━━━━━━━━━━━━━━━━━━━━━━┳━━━━━━━━━━━━━━━━━┓\n",
       "┃<span style=\"font-weight: bold\"> Layer (type)                                  </span>┃<span style=\"font-weight: bold\"> Output Shape                           </span>┃<span style=\"font-weight: bold\">         Param # </span>┃\n",
       "┡━━━━━━━━━━━━━━━━━━━━━━━━━━━━━━━━━━━━━━━━━━━━━━━╇━━━━━━━━━━━━━━━━━━━━━━━━━━━━━━━━━━━━━━━━╇━━━━━━━━━━━━━━━━━┩\n",
       "│ padding_mask (<span style=\"color: #0087ff; text-decoration-color: #0087ff\">InputLayer</span>)                     │ (<span style=\"color: #00d7ff; text-decoration-color: #00d7ff\">None</span>, <span style=\"color: #00d7ff; text-decoration-color: #00d7ff\">None</span>)                           │               <span style=\"color: #00af00; text-decoration-color: #00af00\">0</span> │\n",
       "├───────────────────────────────────────────────┼────────────────────────────────────────┼─────────────────┤\n",
       "│ token_ids (<span style=\"color: #0087ff; text-decoration-color: #0087ff\">InputLayer</span>)                        │ (<span style=\"color: #00d7ff; text-decoration-color: #00d7ff\">None</span>, <span style=\"color: #00d7ff; text-decoration-color: #00d7ff\">None</span>)                           │               <span style=\"color: #00af00; text-decoration-color: #00af00\">0</span> │\n",
       "├───────────────────────────────────────────────┼────────────────────────────────────────┼─────────────────┤\n",
       "│ distil_bert_backbone (<span style=\"color: #0087ff; text-decoration-color: #0087ff\">DistilBertBackbone</span>)     │ (<span style=\"color: #00d7ff; text-decoration-color: #00d7ff\">None</span>, <span style=\"color: #00d7ff; text-decoration-color: #00d7ff\">None</span>, <span style=\"color: #00af00; text-decoration-color: #00af00\">768</span>)                      │      <span style=\"color: #00af00; text-decoration-color: #00af00\">66,362,880</span> │\n",
       "├───────────────────────────────────────────────┼────────────────────────────────────────┼─────────────────┤\n",
       "│ tf.__operators__.getitem (<span style=\"color: #0087ff; text-decoration-color: #0087ff\">SlicingOpLambda</span>)    │ (<span style=\"color: #00d7ff; text-decoration-color: #00d7ff\">None</span>, <span style=\"color: #00af00; text-decoration-color: #00af00\">768</span>)                            │               <span style=\"color: #00af00; text-decoration-color: #00af00\">0</span> │\n",
       "├───────────────────────────────────────────────┼────────────────────────────────────────┼─────────────────┤\n",
       "│ pooled_dense (<span style=\"color: #0087ff; text-decoration-color: #0087ff\">Dense</span>)                          │ (<span style=\"color: #00d7ff; text-decoration-color: #00d7ff\">None</span>, <span style=\"color: #00af00; text-decoration-color: #00af00\">768</span>)                            │         <span style=\"color: #00af00; text-decoration-color: #00af00\">590,592</span> │\n",
       "├───────────────────────────────────────────────┼────────────────────────────────────────┼─────────────────┤\n",
       "│ classifier_dropout (<span style=\"color: #0087ff; text-decoration-color: #0087ff\">Dropout</span>)                  │ (<span style=\"color: #00d7ff; text-decoration-color: #00d7ff\">None</span>, <span style=\"color: #00af00; text-decoration-color: #00af00\">768</span>)                            │               <span style=\"color: #00af00; text-decoration-color: #00af00\">0</span> │\n",
       "├───────────────────────────────────────────────┼────────────────────────────────────────┼─────────────────┤\n",
       "│ logits (<span style=\"color: #0087ff; text-decoration-color: #0087ff\">Dense</span>)                                │ (<span style=\"color: #00d7ff; text-decoration-color: #00d7ff\">None</span>, <span style=\"color: #00af00; text-decoration-color: #00af00\">2</span>)                              │           <span style=\"color: #00af00; text-decoration-color: #00af00\">1,538</span> │\n",
       "└───────────────────────────────────────────────┴────────────────────────────────────────┴─────────────────┘\n",
       "</pre>\n"
      ],
      "text/plain": [
       "┏━━━━━━━━━━━━━━━━━━━━━━━━━━━━━━━━━━━━━━━━━━━━━━━┳━━━━━━━━━━━━━━━━━━━━━━━━━━━━━━━━━━━━━━━━┳━━━━━━━━━━━━━━━━━┓\n",
       "┃\u001b[1m \u001b[0m\u001b[1mLayer (type)                                 \u001b[0m\u001b[1m \u001b[0m┃\u001b[1m \u001b[0m\u001b[1mOutput Shape                          \u001b[0m\u001b[1m \u001b[0m┃\u001b[1m \u001b[0m\u001b[1m        Param #\u001b[0m\u001b[1m \u001b[0m┃\n",
       "┡━━━━━━━━━━━━━━━━━━━━━━━━━━━━━━━━━━━━━━━━━━━━━━━╇━━━━━━━━━━━━━━━━━━━━━━━━━━━━━━━━━━━━━━━━╇━━━━━━━━━━━━━━━━━┩\n",
       "│ padding_mask (\u001b[38;5;33mInputLayer\u001b[0m)                     │ (\u001b[38;5;45mNone\u001b[0m, \u001b[38;5;45mNone\u001b[0m)                           │               \u001b[38;5;34m0\u001b[0m │\n",
       "├───────────────────────────────────────────────┼────────────────────────────────────────┼─────────────────┤\n",
       "│ token_ids (\u001b[38;5;33mInputLayer\u001b[0m)                        │ (\u001b[38;5;45mNone\u001b[0m, \u001b[38;5;45mNone\u001b[0m)                           │               \u001b[38;5;34m0\u001b[0m │\n",
       "├───────────────────────────────────────────────┼────────────────────────────────────────┼─────────────────┤\n",
       "│ distil_bert_backbone (\u001b[38;5;33mDistilBertBackbone\u001b[0m)     │ (\u001b[38;5;45mNone\u001b[0m, \u001b[38;5;45mNone\u001b[0m, \u001b[38;5;34m768\u001b[0m)                      │      \u001b[38;5;34m66,362,880\u001b[0m │\n",
       "├───────────────────────────────────────────────┼────────────────────────────────────────┼─────────────────┤\n",
       "│ tf.__operators__.getitem (\u001b[38;5;33mSlicingOpLambda\u001b[0m)    │ (\u001b[38;5;45mNone\u001b[0m, \u001b[38;5;34m768\u001b[0m)                            │               \u001b[38;5;34m0\u001b[0m │\n",
       "├───────────────────────────────────────────────┼────────────────────────────────────────┼─────────────────┤\n",
       "│ pooled_dense (\u001b[38;5;33mDense\u001b[0m)                          │ (\u001b[38;5;45mNone\u001b[0m, \u001b[38;5;34m768\u001b[0m)                            │         \u001b[38;5;34m590,592\u001b[0m │\n",
       "├───────────────────────────────────────────────┼────────────────────────────────────────┼─────────────────┤\n",
       "│ classifier_dropout (\u001b[38;5;33mDropout\u001b[0m)                  │ (\u001b[38;5;45mNone\u001b[0m, \u001b[38;5;34m768\u001b[0m)                            │               \u001b[38;5;34m0\u001b[0m │\n",
       "├───────────────────────────────────────────────┼────────────────────────────────────────┼─────────────────┤\n",
       "│ logits (\u001b[38;5;33mDense\u001b[0m)                                │ (\u001b[38;5;45mNone\u001b[0m, \u001b[38;5;34m2\u001b[0m)                              │           \u001b[38;5;34m1,538\u001b[0m │\n",
       "└───────────────────────────────────────────────┴────────────────────────────────────────┴─────────────────┘\n"
      ]
     },
     "metadata": {},
     "output_type": "display_data"
    },
    {
     "data": {
      "text/html": [
       "<pre style=\"white-space:pre;overflow-x:auto;line-height:normal;font-family:Menlo,'DejaVu Sans Mono',consolas,'Courier New',monospace\"><span style=\"font-weight: bold\"> Total params: </span><span style=\"color: #00af00; text-decoration-color: #00af00\">66,955,010</span> (255.41 MB)\n",
       "</pre>\n"
      ],
      "text/plain": [
       "\u001b[1m Total params: \u001b[0m\u001b[38;5;34m66,955,010\u001b[0m (255.41 MB)\n"
      ]
     },
     "metadata": {},
     "output_type": "display_data"
    },
    {
     "data": {
      "text/html": [
       "<pre style=\"white-space:pre;overflow-x:auto;line-height:normal;font-family:Menlo,'DejaVu Sans Mono',consolas,'Courier New',monospace\"><span style=\"font-weight: bold\"> Trainable params: </span><span style=\"color: #00af00; text-decoration-color: #00af00\">66,955,010</span> (255.41 MB)\n",
       "</pre>\n"
      ],
      "text/plain": [
       "\u001b[1m Trainable params: \u001b[0m\u001b[38;5;34m66,955,010\u001b[0m (255.41 MB)\n"
      ]
     },
     "metadata": {},
     "output_type": "display_data"
    },
    {
     "data": {
      "text/html": [
       "<pre style=\"white-space:pre;overflow-x:auto;line-height:normal;font-family:Menlo,'DejaVu Sans Mono',consolas,'Courier New',monospace\"><span style=\"font-weight: bold\"> Non-trainable params: </span><span style=\"color: #00af00; text-decoration-color: #00af00\">0</span> (0.00 B)\n",
       "</pre>\n"
      ],
      "text/plain": [
       "\u001b[1m Non-trainable params: \u001b[0m\u001b[38;5;34m0\u001b[0m (0.00 B)\n"
      ]
     },
     "metadata": {},
     "output_type": "display_data"
    }
   ],
   "source": [
    "# Load a DistilBERT model.\n",
    "preset= \"distil_bert_base_en_uncased\"\n",
    "\n",
    "# Use a shorter sequence length.\n",
    "preprocessor = keras_nlp.models.DistilBertPreprocessor.from_preset(preset,\n",
    "                                                                   sequence_length=160,\n",
    "                                                                   name=\"preprocessor_4_tweets\"\n",
    "                                                                  )\n",
    "\n",
    "# Pretrained classifier.\n",
    "classifier = keras_nlp.models.DistilBertClassifier.from_preset(preset,\n",
    "                                                               preprocessor = preprocessor, \n",
    "                                                               num_classes=2)\n",
    "\n",
    "classifier.summary()"
   ]
  },
  {
   "cell_type": "markdown",
   "id": "fc08e7b1",
   "metadata": {
    "papermill": {
     "duration": 0.013297,
     "end_time": "2024-02-19T10:40:05.793248",
     "exception": false,
     "start_time": "2024-02-19T10:40:05.779951",
     "status": "completed"
    },
    "tags": []
   },
   "source": [
    "# Train your model <a class=\"anchor\"  id=\"h4\"></a>"
   ]
  },
  {
   "cell_type": "code",
   "execution_count": 22,
   "id": "3126febf",
   "metadata": {
    "execution": {
     "iopub.execute_input": "2024-02-19T10:40:05.821554Z",
     "iopub.status.busy": "2024-02-19T10:40:05.821231Z",
     "iopub.status.idle": "2024-02-19T10:51:26.436768Z",
     "shell.execute_reply": "2024-02-19T10:51:26.435671Z"
    },
    "papermill": {
     "duration": 680.69501,
     "end_time": "2024-02-19T10:51:26.501650",
     "exception": false,
     "start_time": "2024-02-19T10:40:05.806640",
     "status": "completed"
    },
    "tags": []
   },
   "outputs": [
    {
     "name": "stdout",
     "output_type": "stream",
     "text": [
      "Epoch 1/10\n"
     ]
    },
    {
     "name": "stderr",
     "output_type": "stream",
     "text": [
      "WARNING: All log messages before absl::InitializeLog() is called are written to STDERR\n",
      "I0000 00:00:1708339226.470438      76 device_compiler.h:186] Compiled cluster using XLA!  This line is logged at most once for the lifetime of the process.\n"
     ]
    },
    {
     "name": "stdout",
     "output_type": "stream",
     "text": [
      "189/189 [==============================] - 93s 368ms/step - loss: 0.6937 - accuracy: 0.5655 - val_loss: 0.6827 - val_accuracy: 0.5784\n",
      "Epoch 2/10\n",
      "189/189 [==============================] - 65s 342ms/step - loss: 0.6854 - accuracy: 0.5709 - val_loss: 0.6827 - val_accuracy: 0.5784\n",
      "Epoch 3/10\n",
      "189/189 [==============================] - 65s 342ms/step - loss: 0.6852 - accuracy: 0.5709 - val_loss: 0.6821 - val_accuracy: 0.5784\n",
      "Epoch 4/10\n",
      "189/189 [==============================] - 65s 342ms/step - loss: 0.6870 - accuracy: 0.5680 - val_loss: 0.6810 - val_accuracy: 0.5784\n",
      "Epoch 5/10\n",
      "189/189 [==============================] - 64s 341ms/step - loss: 0.6849 - accuracy: 0.5684 - val_loss: 0.6819 - val_accuracy: 0.5784\n",
      "Epoch 6/10\n",
      "189/189 [==============================] - 64s 341ms/step - loss: 0.6841 - accuracy: 0.5709 - val_loss: 0.6810 - val_accuracy: 0.5784\n",
      "Epoch 7/10\n",
      "189/189 [==============================] - 64s 341ms/step - loss: 0.6839 - accuracy: 0.5709 - val_loss: 0.6829 - val_accuracy: 0.5784\n",
      "Epoch 8/10\n",
      "189/189 [==============================] - 64s 341ms/step - loss: 0.6839 - accuracy: 0.5709 - val_loss: 0.6822 - val_accuracy: 0.5784\n",
      "Epoch 9/10\n",
      "189/189 [==============================] - 64s 341ms/step - loss: 0.6845 - accuracy: 0.5709 - val_loss: 0.6817 - val_accuracy: 0.5784\n",
      "Epoch 10/10\n",
      "189/189 [==============================] - 64s 341ms/step - loss: 0.6845 - accuracy: 0.5681 - val_loss: 0.6808 - val_accuracy: 0.5784\n"
     ]
    }
   ],
   "source": [
    "# Compile\n",
    "# Compile\n",
    "classifier.compile(\n",
    "    loss=keras.losses.SparseCategoricalCrossentropy(from_logits=True),\n",
    "    optimizer='adam',\n",
    "    metrics=[\"accuracy\"]\n",
    ")\n",
    "\n",
    "\n",
    "# Fit\n",
    "history = classifier.fit(x=X_train,\n",
    "                         y=y_train,\n",
    "                         batch_size=BATCH_SIZE,\n",
    "                         epochs=EPOCHS, \n",
    "                         validation_data=(X_val, y_val)\n",
    "                        )"
   ]
  },
  {
   "cell_type": "code",
   "execution_count": null,
   "id": "459501e1",
   "metadata": {
    "papermill": {
     "duration": 0.161981,
     "end_time": "2024-02-19T10:51:26.827733",
     "exception": false,
     "start_time": "2024-02-19T10:51:26.665752",
     "status": "completed"
    },
    "tags": []
   },
   "outputs": [],
   "source": []
  },
  {
   "cell_type": "markdown",
   "id": "c39a8f4c",
   "metadata": {
    "papermill": {
     "duration": 0.160909,
     "end_time": "2024-02-19T10:51:27.151845",
     "exception": false,
     "start_time": "2024-02-19T10:51:26.990936",
     "status": "completed"
    },
    "tags": []
   },
   "source": [
    "## Results"
   ]
  },
  {
   "cell_type": "markdown",
   "id": "73415fd2",
   "metadata": {
    "papermill": {
     "duration": 0.160686,
     "end_time": "2024-02-19T10:51:27.473454",
     "exception": false,
     "start_time": "2024-02-19T10:51:27.312768",
     "status": "completed"
    },
    "tags": []
   },
   "source": [
    "## Results"
   ]
  },
  {
   "cell_type": "code",
   "execution_count": 23,
   "id": "439a4dc4",
   "metadata": {
    "execution": {
     "iopub.execute_input": "2024-02-19T10:51:27.800987Z",
     "iopub.status.busy": "2024-02-19T10:51:27.800276Z",
     "iopub.status.idle": "2024-02-19T10:51:36.823535Z",
     "shell.execute_reply": "2024-02-19T10:51:36.822441Z"
    },
    "papermill": {
     "duration": 9.189507,
     "end_time": "2024-02-19T10:51:36.826140",
     "exception": false,
     "start_time": "2024-02-19T10:51:27.636633",
     "status": "completed"
    },
    "tags": []
   },
   "outputs": [
    {
     "name": "stdout",
     "output_type": "stream",
     "text": [
      "48/48 [==============================] - 8s 137ms/step\n",
      "Accuracy: 0.5784248841826605\n",
      "F1 Score: 0.42393572224372766\n",
      "Classification Report:\n",
      "               precision    recall  f1-score   support\n",
      "\n",
      "           0       0.58      1.00      0.73       874\n",
      "           1       0.00      0.00      0.00       637\n",
      "\n",
      "    accuracy                           0.58      1511\n",
      "   macro avg       0.29      0.50      0.37      1511\n",
      "weighted avg       0.33      0.58      0.42      1511\n",
      "\n"
     ]
    },
    {
     "name": "stderr",
     "output_type": "stream",
     "text": [
      "/opt/conda/lib/python3.10/site-packages/sklearn/metrics/_classification.py:1344: UndefinedMetricWarning: Precision and F-score are ill-defined and being set to 0.0 in labels with no predicted samples. Use `zero_division` parameter to control this behavior.\n",
      "  _warn_prf(average, modifier, msg_start, len(result))\n",
      "/opt/conda/lib/python3.10/site-packages/sklearn/metrics/_classification.py:1344: UndefinedMetricWarning: Precision and F-score are ill-defined and being set to 0.0 in labels with no predicted samples. Use `zero_division` parameter to control this behavior.\n",
      "  _warn_prf(average, modifier, msg_start, len(result))\n",
      "/opt/conda/lib/python3.10/site-packages/sklearn/metrics/_classification.py:1344: UndefinedMetricWarning: Precision and F-score are ill-defined and being set to 0.0 in labels with no predicted samples. Use `zero_division` parameter to control this behavior.\n",
      "  _warn_prf(average, modifier, msg_start, len(result))\n"
     ]
    }
   ],
   "source": [
    "from sklearn.metrics import accuracy_score, classification_report, f1_score\n",
    "\n",
    "# Assuming you have trained your classifier and obtained predictions on validation data\n",
    "\n",
    "# Get predictions on validation data\n",
    "y_pred = classifier.predict(X_val)\n",
    "\n",
    "# Convert predicted probabilities to class labels\n",
    "y_pred_labels = np.argmax(y_pred, axis=1)\n",
    "\n",
    "# Calculate accuracy\n",
    "accuracy = accuracy_score(y_val, y_pred_labels)\n",
    "\n",
    "# Generate classification report\n",
    "report = classification_report(y_val, y_pred_labels)\n",
    "\n",
    "# Calculate F1 score\n",
    "f1 = f1_score(y_val, y_pred_labels, average='weighted')\n",
    "\n",
    "print(\"Accuracy:\", accuracy)\n",
    "print(\"F1 Score:\", f1)\n",
    "print(\"Classification Report:\\n\", report)\n"
   ]
  },
  {
   "cell_type": "markdown",
   "id": "26dc520a",
   "metadata": {
    "papermill": {
     "duration": 0.21395,
     "end_time": "2024-02-19T10:51:37.209006",
     "exception": false,
     "start_time": "2024-02-19T10:51:36.995056",
     "status": "completed"
    },
    "tags": []
   },
   "source": [
    "## Confusion Matrix"
   ]
  },
  {
   "cell_type": "code",
   "execution_count": 24,
   "id": "f99affb6",
   "metadata": {
    "execution": {
     "iopub.execute_input": "2024-02-19T10:51:37.542766Z",
     "iopub.status.busy": "2024-02-19T10:51:37.542050Z",
     "iopub.status.idle": "2024-02-19T10:51:37.548625Z",
     "shell.execute_reply": "2024-02-19T10:51:37.547762Z"
    },
    "papermill": {
     "duration": 0.175413,
     "end_time": "2024-02-19T10:51:37.550580",
     "exception": false,
     "start_time": "2024-02-19T10:51:37.375167",
     "status": "completed"
    },
    "tags": []
   },
   "outputs": [],
   "source": [
    "def displayConfusionMatrix(y_true, y_pred, dataset):\n",
    "    disp = ConfusionMatrixDisplay.from_predictions(\n",
    "        y_true,\n",
    "        np.argmax(y_pred, axis=1),\n",
    "        display_labels=[\"Not Disaster\",\"Disaster\"],\n",
    "        cmap=plt.cm.Blues\n",
    "    )\n",
    "\n",
    "    tn, fp, fn, tp = confusion_matrix(y_true, np.argmax(y_pred, axis=1)).ravel()\n",
    "    f1_score = tp / (tp+((fn+fp)/2))\n",
    "\n",
    "    disp.ax_.set_title(\"Confusion Matrix on \" + dataset + \" Dataset -- F1 Score: \" + str(f1_score.round(2)))"
   ]
  },
  {
   "cell_type": "code",
   "execution_count": 25,
   "id": "e28ab824",
   "metadata": {
    "execution": {
     "iopub.execute_input": "2024-02-19T10:51:37.887727Z",
     "iopub.status.busy": "2024-02-19T10:51:37.887321Z",
     "iopub.status.idle": "2024-02-19T10:52:06.035323Z",
     "shell.execute_reply": "2024-02-19T10:52:06.034367Z"
    },
    "papermill": {
     "duration": 28.32022,
     "end_time": "2024-02-19T10:52:06.037304",
     "exception": false,
     "start_time": "2024-02-19T10:51:37.717084",
     "status": "completed"
    },
    "tags": []
   },
   "outputs": [
    {
     "name": "stdout",
     "output_type": "stream",
     "text": [
      "189/189 [==============================] - 26s 137ms/step\n"
     ]
    },
    {
     "data": {
      "image/png": "[encoded data removed]",
      "text/plain": [
       "<Figure size 640x480 with 2 Axes>"
      ]
     },
     "metadata": {},
     "output_type": "display_data"
    }
   ],
   "source": [
    "y_pred_train = classifier.predict(X_train)\n",
    "\n",
    "displayConfusionMatrix(y_train, y_pred_train, \"Training\")"
   ]
  },
  {
   "cell_type": "code",
   "execution_count": 26,
   "id": "ee9fd17f",
   "metadata": {
    "execution": {
     "iopub.execute_input": "2024-02-19T10:52:06.402627Z",
     "iopub.status.busy": "2024-02-19T10:52:06.402238Z",
     "iopub.status.idle": "2024-02-19T10:52:14.527616Z",
     "shell.execute_reply": "2024-02-19T10:52:14.526577Z"
    },
    "papermill": {
     "duration": 8.309793,
     "end_time": "2024-02-19T10:52:14.529745",
     "exception": false,
     "start_time": "2024-02-19T10:52:06.219952",
     "status": "completed"
    },
    "tags": []
   },
   "outputs": [
    {
     "name": "stdout",
     "output_type": "stream",
     "text": [
      "48/48 [==============================] - 7s 136ms/step\n"
     ]
    },
    {
     "data": {
      "image/png": "[encoded data removed]",
      "text/plain": [
       "<Figure size 640x480 with 2 Axes>"
      ]
     },
     "metadata": {},
     "output_type": "display_data"
    }
   ],
   "source": [
    "y_pred_val = classifier.predict(X_val)\n",
    "\n",
    "displayConfusionMatrix(y_val, y_pred_val, \"Validation\")"
   ]
  },
  {
   "cell_type": "markdown",
   "id": "8c1eaafa",
   "metadata": {
    "papermill": {
     "duration": 0.186886,
     "end_time": "2024-02-19T10:52:14.901339",
     "exception": false,
     "start_time": "2024-02-19T10:52:14.714453",
     "status": "completed"
    },
    "tags": []
   },
   "source": [
    "# Generate the submission file <a class=\"anchor\"  id=\"h5\"></a>"
   ]
  },
  {
   "cell_type": "code",
   "execution_count": null,
   "id": "fb3367bc",
   "metadata": {
    "papermill": {
     "duration": 0.188547,
     "end_time": "2024-02-19T10:52:15.293665",
     "exception": false,
     "start_time": "2024-02-19T10:52:15.105118",
     "status": "completed"
    },
    "tags": []
   },
   "outputs": [],
   "source": []
  }
 ],
 "metadata": {
  "kaggle": {
   "accelerator": "gpu",
   "dataSources": [
    {
     "datasetId": 4462092,
     "sourceId": 7653777,
     "sourceType": "datasetVersion"
    },
    {
     "modelInstanceId": 4689,
     "sourceId": 6068,
     "sourceType": "modelInstanceVersion"
    }
   ],
   "dockerImageVersionId": 30646,
   "isGpuEnabled": true,
   "isInternetEnabled": true,
   "language": "python",
   "sourceType": "notebook"
  },
  "kernelspec": {
   "display_name": "Python 3",
   "language": "python",
   "name": "python3"
  },
  "language_info": {
   "codemirror_mode": {
    "name": "ipython",
    "version": 3
   },
   "file_extension": ".py",
   "mimetype": "text/x-python",
   "name": "python",
   "nbconvert_exporter": "python",
   "pygments_lexer": "ipython3",
   "version": "3.10.13"
  },
  "papermill": {
   "default_parameters": {},
   "duration": 788.537404,
   "end_time": "2024-02-19T10:52:18.938724",
   "environment_variables": {},
   "exception": null,
   "input_path": "__notebook__.ipynb",
   "output_path": "__notebook__.ipynb",
   "parameters": {},
   "start_time": "2024-02-19T10:39:10.401320",
   "version": "2.5.0"
  }
 },
 "nbformat": 4,
 "nbformat_minor": 5
}
